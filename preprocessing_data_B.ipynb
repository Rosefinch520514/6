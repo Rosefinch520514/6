{
 "cells": [
  {
   "cell_type": "code",
   "execution_count": 27,
   "metadata": {},
   "outputs": [],
   "source": [
    "import pandas as pd\n",
    "import matplotlib.pyplot as plt\n",
    "import numpy as np\n",
    "import xlsxwriter"
   ]
  },
  {
   "cell_type": "code",
   "execution_count": 28,
   "metadata": {},
   "outputs": [],
   "source": [
    "df_1 = pd.read_excel (r'./file1.xlsx') \n"
   ]
  },
  {
   "cell_type": "code",
   "execution_count": 31,
   "metadata": {},
   "outputs": [],
   "source": [
    "df_3 = pd.read_excel (r'./file285.xlsx') \n",
    "output_name = 'output285.xlsx'"
   ]
  },
  {
   "cell_type": "code",
   "execution_count": 32,
   "metadata": {
    "scrolled": false
   },
   "outputs": [
    {
     "data": {
      "text/html": [
       "<div>\n",
       "<style scoped>\n",
       "    .dataframe tbody tr th:only-of-type {\n",
       "        vertical-align: middle;\n",
       "    }\n",
       "\n",
       "    .dataframe tbody tr th {\n",
       "        vertical-align: top;\n",
       "    }\n",
       "\n",
       "    .dataframe thead th {\n",
       "        text-align: right;\n",
       "    }\n",
       "</style>\n",
       "<table border=\"1\" class=\"dataframe\">\n",
       "  <thead>\n",
       "    <tr style=\"text-align: right;\">\n",
       "      <th></th>\n",
       "      <th>时间</th>\n",
       "      <th>S-ZORB.CAL_H2.PV</th>\n",
       "      <th>S-ZORB.PDI_2102.PV</th>\n",
       "      <th>S-ZORB.PT_2801.PV</th>\n",
       "      <th>S-ZORB.FC_2801.PV</th>\n",
       "      <th>S-ZORB.TE_2103.PV</th>\n",
       "      <th>S-ZORB.TE_2005.PV</th>\n",
       "      <th>S-ZORB.PT_2101.PV</th>\n",
       "      <th>S-ZORB.PDT_2104.PV</th>\n",
       "      <th>S-ZORB.SIS_PDT_2103B.PV</th>\n",
       "      <th>...</th>\n",
       "      <th>S-ZORB.CAL_1.CANGLIANG.PV</th>\n",
       "      <th>S-ZORB.FT_1006.DACA.PV</th>\n",
       "      <th>S-ZORB.FT_5204.DACA.PV</th>\n",
       "      <th>S-ZORB.FT_1006.TOTALIZERA.PV</th>\n",
       "      <th>S-ZORB.FT_5204.TOTALIZERA.PV</th>\n",
       "      <th>S-ZORB.FT_1503.DACA.PV</th>\n",
       "      <th>S-ZORB.FT_1503.TOTALIZERA.PV</th>\n",
       "      <th>S-ZORB.FT_1504.DACA.PV</th>\n",
       "      <th>S-ZORB.FT_1504.TOTALIZERA.PV</th>\n",
       "      <th>S-ZORB.PC_1001A.PV</th>\n",
       "    </tr>\n",
       "  </thead>\n",
       "  <tbody>\n",
       "    <tr>\n",
       "      <th>0</th>\n",
       "      <td>2020/5/26 8:00:00</td>\n",
       "      <td>0.276318</td>\n",
       "      <td>31.211968</td>\n",
       "      <td>2.526857</td>\n",
       "      <td>647.75238</td>\n",
       "      <td>424.6159</td>\n",
       "      <td>421.608145</td>\n",
       "      <td>2.393991</td>\n",
       "      <td>101.29058</td>\n",
       "      <td>33.480159</td>\n",
       "      <td>...</td>\n",
       "      <td>2.045436</td>\n",
       "      <td>6368.747</td>\n",
       "      <td>233.310805</td>\n",
       "      <td>83086802.0</td>\n",
       "      <td>832503.795</td>\n",
       "      <td>2216.40935</td>\n",
       "      <td>39063124.5</td>\n",
       "      <td>1840.1447</td>\n",
       "      <td>39608757.0</td>\n",
       "      <td>0.353271</td>\n",
       "    </tr>\n",
       "  </tbody>\n",
       "</table>\n",
       "<p>1 rows × 355 columns</p>\n",
       "</div>"
      ],
      "text/plain": [
       "                  时间  S-ZORB.CAL_H2.PV  S-ZORB.PDI_2102.PV  S-ZORB.PT_2801.PV  \\\n",
       "0  2020/5/26 8:00:00          0.276318           31.211968           2.526857   \n",
       "\n",
       "   S-ZORB.FC_2801.PV  S-ZORB.TE_2103.PV  S-ZORB.TE_2005.PV  S-ZORB.PT_2101.PV  \\\n",
       "0          647.75238           424.6159         421.608145           2.393991   \n",
       "\n",
       "   S-ZORB.PDT_2104.PV  S-ZORB.SIS_PDT_2103B.PV  ...  \\\n",
       "0           101.29058                33.480159  ...   \n",
       "\n",
       "   S-ZORB.CAL_1.CANGLIANG.PV  S-ZORB.FT_1006.DACA.PV  S-ZORB.FT_5204.DACA.PV  \\\n",
       "0                   2.045436                6368.747              233.310805   \n",
       "\n",
       "   S-ZORB.FT_1006.TOTALIZERA.PV  S-ZORB.FT_5204.TOTALIZERA.PV  \\\n",
       "0                    83086802.0                    832503.795   \n",
       "\n",
       "   S-ZORB.FT_1503.DACA.PV  S-ZORB.FT_1503.TOTALIZERA.PV  \\\n",
       "0              2216.40935                    39063124.5   \n",
       "\n",
       "   S-ZORB.FT_1504.DACA.PV  S-ZORB.FT_1504.TOTALIZERA.PV  S-ZORB.PC_1001A.PV  \n",
       "0               1840.1447                    39608757.0            0.353271  \n",
       "\n",
       "[1 rows x 355 columns]"
      ]
     },
     "execution_count": 32,
     "metadata": {},
     "output_type": "execute_result"
    }
   ],
   "source": [
    "df_1.head(1)"
   ]
  },
  {
   "cell_type": "code",
   "execution_count": 33,
   "metadata": {},
   "outputs": [
    {
     "data": {
      "text/html": [
       "<div>\n",
       "<style scoped>\n",
       "    .dataframe tbody tr th:only-of-type {\n",
       "        vertical-align: middle;\n",
       "    }\n",
       "\n",
       "    .dataframe tbody tr th {\n",
       "        vertical-align: top;\n",
       "    }\n",
       "\n",
       "    .dataframe thead th {\n",
       "        text-align: right;\n",
       "    }\n",
       "</style>\n",
       "<table border=\"1\" class=\"dataframe\">\n",
       "  <thead>\n",
       "    <tr style=\"text-align: right;\">\n",
       "      <th></th>\n",
       "      <th>时间</th>\n",
       "      <th>S-ZORB.CAL_H2.PV</th>\n",
       "      <th>S-ZORB.PDI_2102.PV</th>\n",
       "      <th>S-ZORB.PT_2801.PV</th>\n",
       "      <th>S-ZORB.FC_2801.PV</th>\n",
       "      <th>S-ZORB.TE_2103.PV</th>\n",
       "      <th>S-ZORB.TE_2005.PV</th>\n",
       "      <th>S-ZORB.PT_2101.PV</th>\n",
       "      <th>S-ZORB.PDT_2104.PV</th>\n",
       "      <th>S-ZORB.SIS_PDT_2103B.PV</th>\n",
       "      <th>...</th>\n",
       "      <th>S-ZORB.CAL_1.CANGLIANG.PV</th>\n",
       "      <th>S-ZORB.FT_1006.DACA.PV</th>\n",
       "      <th>S-ZORB.FT_5204.DACA.PV</th>\n",
       "      <th>S-ZORB.FT_1006.TOTALIZERA.PV</th>\n",
       "      <th>S-ZORB.FT_5204.TOTALIZERA.PV</th>\n",
       "      <th>S-ZORB.FT_1503.DACA.PV</th>\n",
       "      <th>S-ZORB.FT_1503.TOTALIZERA.PV</th>\n",
       "      <th>S-ZORB.FT_1504.DACA.PV</th>\n",
       "      <th>S-ZORB.FT_1504.TOTALIZERA.PV</th>\n",
       "      <th>S-ZORB.PC_1001A.PV</th>\n",
       "    </tr>\n",
       "  </thead>\n",
       "  <tbody>\n",
       "    <tr>\n",
       "      <th>0</th>\n",
       "      <td>2017-07-17 06:03:00</td>\n",
       "      <td>0.273498</td>\n",
       "      <td>24.17817</td>\n",
       "      <td>2.528462</td>\n",
       "      <td>856.2485</td>\n",
       "      <td>421.5055</td>\n",
       "      <td>421.1933</td>\n",
       "      <td>2.426675</td>\n",
       "      <td>59.71847</td>\n",
       "      <td>1108.377</td>\n",
       "      <td>...</td>\n",
       "      <td>2.358511</td>\n",
       "      <td>3348.074</td>\n",
       "      <td>190.6698</td>\n",
       "      <td>98941230</td>\n",
       "      <td>2433273</td>\n",
       "      <td>2210.004</td>\n",
       "      <td>5147738</td>\n",
       "      <td>2846.39</td>\n",
       "      <td>5982072</td>\n",
       "      <td>-97.22112</td>\n",
       "    </tr>\n",
       "  </tbody>\n",
       "</table>\n",
       "<p>1 rows × 355 columns</p>\n",
       "</div>"
      ],
      "text/plain": [
       "                     时间  S-ZORB.CAL_H2.PV  S-ZORB.PDI_2102.PV  \\\n",
       "0   2017-07-17 06:03:00          0.273498            24.17817   \n",
       "\n",
       "   S-ZORB.PT_2801.PV  S-ZORB.FC_2801.PV  S-ZORB.TE_2103.PV  S-ZORB.TE_2005.PV  \\\n",
       "0           2.528462           856.2485           421.5055           421.1933   \n",
       "\n",
       "   S-ZORB.PT_2101.PV  S-ZORB.PDT_2104.PV  S-ZORB.SIS_PDT_2103B.PV  ...  \\\n",
       "0           2.426675            59.71847                 1108.377  ...   \n",
       "\n",
       "   S-ZORB.CAL_1.CANGLIANG.PV  S-ZORB.FT_1006.DACA.PV  S-ZORB.FT_5204.DACA.PV  \\\n",
       "0                   2.358511                3348.074                190.6698   \n",
       "\n",
       "   S-ZORB.FT_1006.TOTALIZERA.PV  S-ZORB.FT_5204.TOTALIZERA.PV  \\\n",
       "0                      98941230                       2433273   \n",
       "\n",
       "   S-ZORB.FT_1503.DACA.PV  S-ZORB.FT_1503.TOTALIZERA.PV  \\\n",
       "0                2210.004                       5147738   \n",
       "\n",
       "   S-ZORB.FT_1504.DACA.PV  S-ZORB.FT_1504.TOTALIZERA.PV  S-ZORB.PC_1001A.PV  \n",
       "0                 2846.39                       5982072           -97.22112  \n",
       "\n",
       "[1 rows x 355 columns]"
      ]
     },
     "execution_count": 33,
     "metadata": {},
     "output_type": "execute_result"
    }
   ],
   "source": [
    "df_3.head(1)"
   ]
  },
  {
   "cell_type": "code",
   "execution_count": 34,
   "metadata": {},
   "outputs": [
    {
     "data": {
      "text/plain": [
       "<AxesSubplot:>"
      ]
     },
     "execution_count": 34,
     "metadata": {},
     "output_type": "execute_result"
    },
    {
     "data": {
      "image/png": "[encoded data removed]",
      "text/plain": [
       "<Figure size 432x288 with 1 Axes>"
      ]
     },
     "metadata": {
      "needs_background": "light"
     },
     "output_type": "display_data"
    }
   ],
   "source": [
    "df_1[\"S-ZORB.CAL_H2.PV\"].plot()"
   ]
  },
  {
   "cell_type": "markdown",
   "metadata": {},
   "source": [
    "## 不同列排序相同"
   ]
  },
  {
   "cell_type": "code",
   "execution_count": 35,
   "metadata": {
    "scrolled": false
   },
   "outputs": [],
   "source": [
    "file1_col_names = list(df_1.columns) "
   ]
  },
  {
   "cell_type": "code",
   "execution_count": 36,
   "metadata": {},
   "outputs": [],
   "source": [
    "file3_col_names = list(df_3.columns) "
   ]
  },
  {
   "cell_type": "code",
   "execution_count": 37,
   "metadata": {},
   "outputs": [
    {
     "data": {
      "text/plain": [
       "True"
      ]
     },
     "execution_count": 37,
     "metadata": {},
     "output_type": "execute_result"
    }
   ],
   "source": [
    "file1_col_names==file3_col_names"
   ]
  },
  {
   "cell_type": "markdown",
   "metadata": {},
   "source": [
    "## 没有NaN"
   ]
  },
  {
   "cell_type": "code",
   "execution_count": 38,
   "metadata": {},
   "outputs": [
    {
     "data": {
      "text/plain": [
       "(array([], dtype=int64), array([], dtype=int64))"
      ]
     },
     "execution_count": 38,
     "metadata": {},
     "output_type": "execute_result"
    }
   ],
   "source": [
    "np.where(pd.isnull(df_3))"
   ]
  },
  {
   "cell_type": "markdown",
   "metadata": {},
   "source": [
    "## 没有空"
   ]
  },
  {
   "cell_type": "code",
   "execution_count": 39,
   "metadata": {},
   "outputs": [
    {
     "data": {
      "text/plain": [
       "(array([], dtype=int64), array([], dtype=int64))"
      ]
     },
     "execution_count": 39,
     "metadata": {},
     "output_type": "execute_result"
    }
   ],
   "source": [
    "np.where(df_3.applymap(lambda x: x == ''))"
   ]
  },
  {
   "cell_type": "markdown",
   "metadata": {},
   "source": [
    "## variance\n",
    "\n",
    "### 选择附件1作为参考，还是选择附件3作为参考呢？都行，都试试。"
   ]
  },
  {
   "cell_type": "code",
   "execution_count": 40,
   "metadata": {},
   "outputs": [],
   "source": [
    "sigma = df_1.var() ## begin from 2nd col "
   ]
  },
  {
   "cell_type": "code",
   "execution_count": 41,
   "metadata": {},
   "outputs": [],
   "source": [
    "means = df_1.mean() ## begin from 2nd col"
   ]
  },
  {
   "cell_type": "code",
   "execution_count": 42,
   "metadata": {},
   "outputs": [],
   "source": [
    "maxs = df_1.max()\n",
    "mins = df_1.max()"
   ]
  },
  {
   "cell_type": "markdown",
   "metadata": {},
   "source": [
    "### 验证样本方差计算"
   ]
  },
  {
   "cell_type": "code",
   "execution_count": 43,
   "metadata": {},
   "outputs": [
    {
     "data": {
      "text/plain": [
       "'S-ZORB.CAL_H2.PV'"
      ]
     },
     "execution_count": 43,
     "metadata": {},
     "output_type": "execute_result"
    }
   ],
   "source": [
    "file1_col_names[1]"
   ]
  },
  {
   "cell_type": "code",
   "execution_count": 44,
   "metadata": {},
   "outputs": [
    {
     "data": {
      "text/plain": [
       "0.27173163765043673"
      ]
     },
     "execution_count": 44,
     "metadata": {},
     "output_type": "execute_result"
    }
   ],
   "source": [
    "df_1[file1_col_names[1]].mean()"
   ]
  },
  {
   "cell_type": "code",
   "execution_count": 45,
   "metadata": {},
   "outputs": [
    {
     "data": {
      "text/plain": [
       "(325, 355)"
      ]
     },
     "execution_count": 45,
     "metadata": {},
     "output_type": "execute_result"
    }
   ],
   "source": [
    "df_1.shape"
   ]
  },
  {
   "cell_type": "code",
   "execution_count": 46,
   "metadata": {},
   "outputs": [
    {
     "data": {
      "text/plain": [
       "0.0005882845532060552"
      ]
     },
     "execution_count": 46,
     "metadata": {},
     "output_type": "execute_result"
    }
   ],
   "source": [
    "np.sum(np.square(df_1[file1_col_names[1]]-means[0]))/(df_1.shape[0]-1)"
   ]
  },
  {
   "cell_type": "code",
   "execution_count": 47,
   "metadata": {},
   "outputs": [
    {
     "data": {
      "text/plain": [
       "0.0005882845532060552"
      ]
     },
     "execution_count": 47,
     "metadata": {},
     "output_type": "execute_result"
    }
   ],
   "source": [
    "sigma[0]"
   ]
  },
  {
   "cell_type": "markdown",
   "metadata": {},
   "source": [
    "## check 2nd col"
   ]
  },
  {
   "cell_type": "code",
   "execution_count": 48,
   "metadata": {},
   "outputs": [
    {
     "data": {
      "text/plain": [
       "(354, 354, 355, 355)"
      ]
     },
     "execution_count": 48,
     "metadata": {},
     "output_type": "execute_result"
    }
   ],
   "source": [
    "len(means),len(sigma),len(maxs),len(mins)"
   ]
  },
  {
   "cell_type": "code",
   "execution_count": 49,
   "metadata": {},
   "outputs": [
    {
     "data": {
      "text/html": [
       "<div>\n",
       "<style scoped>\n",
       "    .dataframe tbody tr th:only-of-type {\n",
       "        vertical-align: middle;\n",
       "    }\n",
       "\n",
       "    .dataframe tbody tr th {\n",
       "        vertical-align: top;\n",
       "    }\n",
       "\n",
       "    .dataframe thead th {\n",
       "        text-align: right;\n",
       "    }\n",
       "</style>\n",
       "<table border=\"1\" class=\"dataframe\">\n",
       "  <thead>\n",
       "    <tr style=\"text-align: right;\">\n",
       "      <th></th>\n",
       "      <th>时间</th>\n",
       "      <th>S-ZORB.CAL_H2.PV</th>\n",
       "      <th>S-ZORB.PDI_2102.PV</th>\n",
       "      <th>S-ZORB.PT_2801.PV</th>\n",
       "      <th>S-ZORB.FC_2801.PV</th>\n",
       "      <th>S-ZORB.TE_2103.PV</th>\n",
       "      <th>S-ZORB.TE_2005.PV</th>\n",
       "      <th>S-ZORB.PT_2101.PV</th>\n",
       "      <th>S-ZORB.PDT_2104.PV</th>\n",
       "      <th>S-ZORB.SIS_PDT_2103B.PV</th>\n",
       "      <th>...</th>\n",
       "      <th>S-ZORB.CAL_1.CANGLIANG.PV</th>\n",
       "      <th>S-ZORB.FT_1006.DACA.PV</th>\n",
       "      <th>S-ZORB.FT_5204.DACA.PV</th>\n",
       "      <th>S-ZORB.FT_1006.TOTALIZERA.PV</th>\n",
       "      <th>S-ZORB.FT_5204.TOTALIZERA.PV</th>\n",
       "      <th>S-ZORB.FT_1503.DACA.PV</th>\n",
       "      <th>S-ZORB.FT_1503.TOTALIZERA.PV</th>\n",
       "      <th>S-ZORB.FT_1504.DACA.PV</th>\n",
       "      <th>S-ZORB.FT_1504.TOTALIZERA.PV</th>\n",
       "      <th>S-ZORB.PC_1001A.PV</th>\n",
       "    </tr>\n",
       "  </thead>\n",
       "  <tbody>\n",
       "    <tr>\n",
       "      <th>0</th>\n",
       "      <td>2017-07-17 06:03:00</td>\n",
       "      <td>0.273498</td>\n",
       "      <td>24.17817</td>\n",
       "      <td>2.528462</td>\n",
       "      <td>856.2485</td>\n",
       "      <td>421.5055</td>\n",
       "      <td>421.1933</td>\n",
       "      <td>2.426675</td>\n",
       "      <td>59.71847</td>\n",
       "      <td>1108.377</td>\n",
       "      <td>...</td>\n",
       "      <td>2.358511</td>\n",
       "      <td>3348.074</td>\n",
       "      <td>190.6698</td>\n",
       "      <td>98941230</td>\n",
       "      <td>2433273</td>\n",
       "      <td>2210.004</td>\n",
       "      <td>5147738</td>\n",
       "      <td>2846.39</td>\n",
       "      <td>5982072</td>\n",
       "      <td>-97.22112</td>\n",
       "    </tr>\n",
       "  </tbody>\n",
       "</table>\n",
       "<p>1 rows × 355 columns</p>\n",
       "</div>"
      ],
      "text/plain": [
       "                     时间  S-ZORB.CAL_H2.PV  S-ZORB.PDI_2102.PV  \\\n",
       "0   2017-07-17 06:03:00          0.273498            24.17817   \n",
       "\n",
       "   S-ZORB.PT_2801.PV  S-ZORB.FC_2801.PV  S-ZORB.TE_2103.PV  S-ZORB.TE_2005.PV  \\\n",
       "0           2.528462           856.2485           421.5055           421.1933   \n",
       "\n",
       "   S-ZORB.PT_2101.PV  S-ZORB.PDT_2104.PV  S-ZORB.SIS_PDT_2103B.PV  ...  \\\n",
       "0           2.426675            59.71847                 1108.377  ...   \n",
       "\n",
       "   S-ZORB.CAL_1.CANGLIANG.PV  S-ZORB.FT_1006.DACA.PV  S-ZORB.FT_5204.DACA.PV  \\\n",
       "0                   2.358511                3348.074                190.6698   \n",
       "\n",
       "   S-ZORB.FT_1006.TOTALIZERA.PV  S-ZORB.FT_5204.TOTALIZERA.PV  \\\n",
       "0                      98941230                       2433273   \n",
       "\n",
       "   S-ZORB.FT_1503.DACA.PV  S-ZORB.FT_1503.TOTALIZERA.PV  \\\n",
       "0                2210.004                       5147738   \n",
       "\n",
       "   S-ZORB.FT_1504.DACA.PV  S-ZORB.FT_1504.TOTALIZERA.PV  S-ZORB.PC_1001A.PV  \n",
       "0                 2846.39                       5982072           -97.22112  \n",
       "\n",
       "[1 rows x 355 columns]"
      ]
     },
     "execution_count": 49,
     "metadata": {},
     "output_type": "execute_result"
    }
   ],
   "source": [
    "df_3.head(1)"
   ]
  },
  {
   "cell_type": "code",
   "execution_count": 24,
   "metadata": {
    "scrolled": true
   },
   "outputs": [],
   "source": [
    "for index in range(df_3.shape[0]):\n",
    "    for i in range(means.size):\n",
    "        if df_3.iloc[index,i+1] > means[i] + 3*sigma[i]:\n",
    "            df_3.iloc[index,i+1] = means[i] + 3*sigma[i]\n",
    "            print(\"change max in row \",index,\" col \",i+1,\" \",df_3.iloc[index,i+1])\n",
    "        if df_3.iloc[index,i+1] < means[i] - 3*sigma[i]:\n",
    "            df_3.iloc[index,i+1] = means[i] - 3*sigma[i]\n",
    "            print(\"change min in row \",index,\" col \",i+1,\" \",df_3.iloc[index,i+1])"
   ]
  },
  {
   "cell_type": "code",
   "execution_count": 25,
   "metadata": {},
   "outputs": [],
   "source": [
    "df_3.to_excel(output_name, engine='xlsxwriter')"
   ]
  },
  {
   "cell_type": "code",
   "execution_count": 26,
   "metadata": {},
   "outputs": [
    {
     "data": {
      "text/plain": [
       "0.004"
      ]
     },
     "execution_count": 26,
     "metadata": {},
     "output_type": "execute_result"
    }
   ],
   "source": [
    "1.0/250"
   ]
  },
  {
   "cell_type": "code",
   "execution_count": null,
   "metadata": {},
   "outputs": [],
   "source": []
  }
 ],
 "metadata": {
  "@webio": {
   "lastCommId": null,
   "lastKernelId": null
  },
  "kernelspec": {
   "display_name": "Python 3.6.11 64-bit ('miniconda': virtualenv)",
   "language": "python",
   "name": "python361164bitminicondavirtualenv68581f6cc97d417d99a196bc3accfa97"
  },
  "language_info": {
   "codemirror_mode": {
    "name": "ipython",
    "version": 3
   },
   "file_extension": ".py",
   "mimetype": "text/x-python",
   "name": "python",
   "nbconvert_exporter": "python",
   "pygments_lexer": "ipython3",
   "version": "3.6.11"
  }
 },
 "nbformat": 4,
 "nbformat_minor": 4
}
